{
 "cells": [
  {
   "cell_type": "markdown",
   "metadata": {},
   "source": [
    "# Background:\n",
    "The United States, home to approximately 320 million citizens, is a large country made of 50 states and the nation’s capital, the District of Columbia (also called Washington D.C.). In this project, you will explore some of the economic statistics of each state and create some visualization of the data. No data on U.S. territories are included in the file.\n",
    "\n",
    "Data will be read from a CSV (comma-separated values) file called __Economic_Data_2010.txt__.  This file has no header record, so you may read it as a plain text file and split the line to separate the individual values.\n",
    "\n",
    "Each row in the file contains the following information on each state in the United States from 2010. Values are separated by commas.:\n",
    "\n",
    "-\t1st Value: State\n",
    "-\t2nd Value: Region (defined by the Bureau of Economic Analysis)\n",
    "-\t3rd Value: Population (in millions). The total number of people living in the state.\n",
    "-\t4th Value: GDP (in billions). Measure of the state’s economic activity, a higher GDP means higher monetary value for goods and services within the state’s boarder.\n",
    "-\t5th Value: Personal Income (in billions). All incomes received by individuals and households.\n",
    "-\t6th Value: Subsidies (in millions). Money granted by the state’s government to help an industry or business.\n",
    "-\t7th Value: Compensation of Employees (in billions). Pre-taxed wages paid by employers to employees.\n",
    "-\t8th Value: Taxes on Production and Imports (in billions). Taxes chargeable to business expenses of producing and importing\n",
    " \n",
    "\n",
    "The Bureau of Economic Analysis contains the following regions.  This information is already in the provided data file.\n",
    "\n",
    "-\tFar_West: Alaska, California, Hawaii, Nevada, Oregon, Washington\n",
    "-\tGreat_Lakes: Illinois, Indiana, Michigan, Ohio, Wisconsin\n",
    "-\tMideast: Delaware, District of Columbia (Washington D.C.), Maryland, New_Jersey, New_York, Pennsylvania\n",
    "-\tNew_England: Connecticut, Maine, Massachusetts, New_Hampshire, Rhode_Island, Vermont\n",
    "-\tPlains: Iowa, Kansas, Minnesota, Missouri, Nebraska, North_Dakota, South_Dakota\n",
    "-\tRocky_Mountain: Colorado, Idaho, Montana, Utah, Wyoming\n",
    "-\tSoutheast: Alabama, Arkansas, Florida, Georgia, Kentucky, Louisiana, Mississippi, North_Carolina, South_Carolina, Tennessee, Virginia, West_Virginia\n",
    "-\tSouthwest: Arizona, New_Mexico, Oklahoma, Texas\n",
    "\n",
    "This data is provided by the U.S. Bureau of Economic Analysis.\n"
   ]
  },
  {
   "cell_type": "markdown",
   "metadata": {},
   "source": [
    "# Assignment Description\n",
    "\n",
    "You are to provide economic statistics by region as follows:\n",
    "\n",
    "-  Total population for the region (sum of the column value)\n",
    "-  Total GDP for the region (sum of the fourth column)\n",
    "-  Average population in the region (total population / number of states in region)\n",
    "-  Average personal income (Total of fifth column / total population)\n",
    "\n",
    "Ccode must provide the following:\n",
    "\n",
    "-  Prompt the user for a region name.\n",
    "-  Read the data from the file selecting only the data for the region.\n",
    "-  Build three dictionaries for the region for the population, GDP, and personal income.  The key for each dictionary is the State.\n",
    "-  In the case where the user entered an invalid region, an appropriate error message should be displayed.  Note, you will not know this until you've read through the file and found no data.\n",
    "-  Write a function called calc_total_pop is passed the population dictionary and returns the total population.  You will obviously need to iterate through the dictionary to produce the total population.\n",
    "-  Write a function called calc_total_gdp that is passed the gdp dictionary and returns the total GDP.\n",
    "-  Write a function called calc_total_pi that is passed the personal income dictionary and returns the total personal income."
   ]
  },
  {
   "cell_type": "code",
   "execution_count": 5,
   "metadata": {},
   "outputs": [],
   "source": [
    "# open the txt file and create dictionaries\n",
    "def read_data(filename):\n",
    "    population = {}\n",
    "    gdp = {}\n",
    "    income = {}\n",
    "\n",
    "    f = open(\"Economic_Data_2010.txt\", \"r\")\n",
    "    for line in f:\n",
    "        e_data = line.split(',')\n",
    "       # state name, region, population, gdp and personal income\n",
    "        state_name = e_data[0]\n",
    "        region_name = e_data[1]\n",
    "        state_population = e_data[2]\n",
    "        state_gdp = e_data[3]\n",
    "        state_pi = e_data[4]\n",
    "    \n",
    "        if region_name == region:\n",
    "            population[state_name] = float(state_population)\n",
    "            gdp[state_name] = float(state_gdp)\n",
    "            income[state_name] = float(state_pi)\n",
    "    f.close()\n",
    "# return the three dictionaries\n",
    "    return population, gdp, income"
   ]
  },
  {
   "cell_type": "code",
   "execution_count": 6,
   "metadata": {},
   "outputs": [],
   "source": [
    "# create the three functions for population, gdp, income\n",
    "\n",
    "# population function\n",
    "def calc_total_pop(population):\n",
    "    total_pop = 0\n",
    "    for state in population:\n",
    "        total_pop += population[state]\n",
    "    return total_pop\n",
    "    \n",
    "# gdp function\n",
    "def calc_total_gdp(gdp):\n",
    "    total_gdp = 0\n",
    "    for state in gdp:\n",
    "        total_gdp += gdp[state]\n",
    "    return total_gdp\n",
    "    \n",
    "# income function\n",
    "def calc_total_pi(income):\n",
    "    total_pi = 0\n",
    "    for state in income:\n",
    "        total_pi += income[state]\n",
    "    return total_pi"
   ]
  },
  {
   "cell_type": "code",
   "execution_count": 7,
   "metadata": {},
   "outputs": [
    {
     "name": "stdin",
     "output_type": "stream",
     "text": [
      "Enter the region name:  Great_Lakes\n"
     ]
    },
    {
     "name": "stdout",
     "output_type": "stream",
     "text": [
      "Economic statistics for the Great_Lakes region:\n",
      " States in Region:\t Illinois, Indiana, Michigan, Ohio, Wisconsin\n",
      " Total population:\t 46.436 million\n",
      " Average population:\t 9.2872 million\n",
      " Total GDP:\t\t 1776.04 billion\n",
      " Average PI:\t\t 37669.85\n"
     ]
    }
   ],
   "source": [
    "# take region name as input\n",
    "region = input('Enter the region name: ')\n",
    "\n",
    "# call function made in the beginning\n",
    "population, gdp, income = read_data('Economic_Data_2010.txt')\n",
    "\n",
    "if not population:\n",
    "    print('Invalid region name!')\n",
    "# if not//display the output\n",
    "else:\n",
    "    print('Economic statistics for the', region, 'region:')\n",
    "    states = list(population.keys())\n",
    "    print(' States in Region:\\t ' + ', '.join(states))\n",
    "    total_pop = calc_total_pop(population)\n",
    "    total_gdp = calc_total_gdp(gdp)\n",
    "    total_pi = calc_total_pi(income)\n",
    "    print(' Total population:\\t {} million' .format(round(total_pop, 3)))\n",
    "    print(' Average population:\\t {} million' .format(round(total_pop / len(states), 4)))\n",
    "    print(' Total GDP:\\t\\t {} billion' .format(round(total_gdp, 2)))\n",
    "    print(' Average PI:\\t\\t {}' .format(round(total_pi/total_pop*1000, 2)))"
   ]
  }
 ],
 "metadata": {
  "kernelspec": {
   "display_name": "Python 3 (ipykernel)",
   "language": "python",
   "name": "python3"
  },
  "language_info": {
   "codemirror_mode": {
    "name": "ipython",
    "version": 3
   },
   "file_extension": ".py",
   "mimetype": "text/x-python",
   "name": "python",
   "nbconvert_exporter": "python",
   "pygments_lexer": "ipython3",
   "version": "3.8.18"
  }
 },
 "nbformat": 4,
 "nbformat_minor": 4
}
