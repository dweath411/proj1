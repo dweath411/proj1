  #open the txt file and create dictionaries
def read_data(filename):
    population = {}
    gdp = {}
    income = {}

    f = open("Economic_Data_2010.txt", "r")
    for line in f:
        e_data = line.split(',')
       #state name, region, population, gdp and personal income
        state_name = e_data[0]
        region_name = e_data[1]
        state_population = e_data[2]
        state_gdp = e_data[3]
        state_pi = e_data[4]
    
        if region_name == region:
            population[state_name] = float(state_population)
            gdp[state_name] = float(state_gdp)
            income[state_name] = float(state_pi)
    f.close()
# Return the three dictionaries
    return population, gdp, income
#Create the 3 functions for population, gdp, income
#population
def calc_total_pop(population):
    total_pop = 0
    for state in population:
        total_pop += population[state]
    return total_pop
#gdp
def calc_total_gdp(gdp):
    total_gdp = 0
    for state in gdp:
        total_gdp += gdp[state]
    return total_gdp
#income
def calc_total_pi(income):
    total_pi = 0
    for state in income:
        total_pi += income[state]
    return total_pi
# Take region name as input
region = input('Enter the region name: ')

# Call function made in the beginning
population, gdp, income = read_data('Economic_Data_2010.txt')

if not population:
    print('Invalid region name!')
# if not//display the output
else:
    print('Economic statistics for the', region, 'region:')
    states = list(population.keys())
    print(' States in Region:\t ' + ', '.join(states))
    total_pop = calc_total_pop(population)
    total_gdp = calc_total_gdp(gdp)
    total_pi = calc_total_pi(income)
    print(' Total population:\t {} million' .format(round(total_pop, 3)))
    print(' Average population:\t {} million' .format(round(total_pop / len(states), 4)))
    print(' Total GDP:\t\t {} billion' .format(round(total_gdp, 2)))
    print(' Average PI:\t\t {}' .format(round(total_pi/total_pop*1000, 2)))
