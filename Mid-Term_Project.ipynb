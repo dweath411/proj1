  {
   "cell_type": "code",
   "execution_count": 6,
   "metadata": {},
   "outputs": [
    {
     "name": "stdout",
     "output_type": "stream",
     "text": [
      "Enter the region name: Far_West\n",
      "Economic statistics for the Far_West region:\n",
      " States in Region:\t Alaska, California, Hawaii, Nevada, Oregon, Washington\n",
      " Total population:\t 52.698 million\n",
      " Average population:\t 8.7831 million\n",
      " Total GDP:\t\t 2367.11 billion\n",
      " Average PI:\t\t 41598.96\n"
     ]
    }
   ],
   "source": [
    "## Mid-Term Project: Derien Weatherspoon##\n",
    "\n",
    "#open the txt file and create dictionaries\n",
    "def read_data(filename):\n",
    "    population = {}\n",
    "    gdp = {}\n",
    "    income = {}\n",
    "\n",
    "    f = open(\"Economic_Data_2010.txt\", \"r\")\n",
    "    for line in f:\n",
    "        e_data = line.split(',')\n",
    "       #state name, region, population, gdp and personal income\n",
    "        state_name = e_data[0]\n",
    "        region_name = e_data[1]\n",
    "        state_population = e_data[2]\n",
    "        state_gdp = e_data[3]\n",
    "        state_pi = e_data[4]\n",
    "    \n",
    "        if region_name == region:\n",
    "            population[state_name] = float(state_population)\n",
    "            gdp[state_name] = float(state_gdp)\n",
    "            income[state_name] = float(state_pi)\n",
    "    f.close()\n",
    "# Return the three dictionaries\n",
    "    return population, gdp, income\n",
    "#Create the 3 functions for population, gdp, income\n",
    "#population\n",
    "def calc_total_pop(population):\n",
    "    total_pop = 0\n",
    "    for state in population:\n",
    "        total_pop += population[state]\n",
    "    return total_pop\n",
    "#gdp\n",
    "def calc_total_gdp(gdp):\n",
    "    total_gdp = 0\n",
    "    for state in gdp:\n",
    "        total_gdp += gdp[state]\n",
    "    return total_gdp\n",
    "#income\n",
    "def calc_total_pi(income):\n",
    "    total_pi = 0\n",
    "    for state in income:\n",
    "        total_pi += income[state]\n",
    "    return total_pi\n",
    "# Take region name as input\n",
    "region = input('Enter the region name: ')\n",
    "\n",
    "# Call function made in the beginning\n",
    "population, gdp, income = read_data('Economic_Data_2010.txt')\n",
    "\n",
    "if not population:\n",
    "    print('Invalid region name!')\n",
    "# if not//display the output\n",
    "else:\n",
    "    print('Economic statistics for the', region, 'region:')\n",
    "    states = list(population.keys())\n",
    "    print(' States in Region:\\t ' + ', '.join(states))\n",
    "    total_pop = calc_total_pop(population)\n",
    "    total_gdp = calc_total_gdp(gdp)\n",
    "    total_pi = calc_total_pi(income)\n",
    "    print(' Total population:\\t {} million' .format(round(total_pop, 3)))\n",
    "    print(' Average population:\\t {} million' .format(round(total_pop / len(states), 4)))\n",
    "    print(' Total GDP:\\t\\t {} billion' .format(round(total_gdp, 2)))\n",
    "    print(' Average PI:\\t\\t {}' .format(round(total_pi/total_pop*1000, 2)))"
   ]
  },
  {
   "cell_type": "code",
   "execution_count": null,
   "metadata": {},
   "outputs": [],
   "source": []
  }
 ],
 "metadata": {
  "kernelspec": {
   "display_name": "Python 3",
   "language": "python",
   "name": "python3"
  },
  "language_info": {
   "codemirror_mode": {
    "name": "ipython",
    "version": 3
   },
   "file_extension": ".py",
   "mimetype": "text/x-python",
   "name": "python",
   "nbconvert_exporter": "python",
   "pygments_lexer": "ipython3",
   "version": "3.6.8"
  }
 },
 "nbformat": 4,
 "nbformat_minor": 2
}
